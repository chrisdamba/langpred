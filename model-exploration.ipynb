{
 "cells": [
  {
   "cell_type": "code",
   "execution_count": 1,
   "metadata": {
    "collapsed": false
   },
   "outputs": [
    {
     "name": "stderr",
     "output_type": "stream",
     "text": [
      ":0: FutureWarning: IPython widgets are experimental and may change in the future.\n"
     ]
    }
   ],
   "source": [
    "# -*- coding: utf-8 -*-\n",
    "%matplotlib inline\n",
    "import bz2\n",
    "import io\n",
    "import matplotlib.pyplot as plt\n",
    "import numpy as np\n",
    "import os\n",
    "import cPickle as pickle\n",
    "import sys\n",
    "import re\n",
    "import seaborn as sns\n",
    "\n",
    "from lang_map import code_lang_map\n",
    "from pandas import DataFrame\n",
    "from sklearn.decomposition import PCA\n",
    "from sklearn.cluster import KMeans\n",
    "from sklearn.metrics.pairwise import pairwise_distances\n",
    "from collections import Counter\n"
   ]
  },
  {
   "cell_type": "markdown",
   "metadata": {},
   "source": [
    "####Calculate the percentages from a pandas dataframe of letter counts and add the percentages as new columns to the given dataframe"
   ]
  },
  {
   "cell_type": "code",
   "execution_count": 2,
   "metadata": {
    "collapsed": true
   },
   "outputs": [],
   "source": [
    "def percentages(df):\n",
    "    df2 = df.join(df.div(df['letters_count'], axis='index'), rsuffix='_perc')\n",
    "    percs = [col for col in df2.columns if col.endswith('_perc')]\n",
    "    return df2[percs]"
   ]
  },
  {
   "cell_type": "markdown",
   "metadata": {},
   "source": [
    "####Count the number of times each character occurs in each language and grab the top 2000 from each of them"
   ]
  },
  {
   "cell_type": "code",
   "execution_count": 3,
   "metadata": {
    "collapsed": true
   },
   "outputs": [],
   "source": [
    "def get_top_letters():\n",
    "    files = os.listdir('articles')\n",
    "    top_letters = []    \n",
    "    for f in files:        \n",
    "        c = Counter()\n",
    "        for article in parse('articles/'+f):\n",
    "            c['articles_count'] += 1\n",
    "            for letter in article['content']:\n",
    "                c[letter] += 1\n",
    "                c['letters_count'] += 1\n",
    "        d = dict(c.most_common(2000))\n",
    "        d['lang'] = os.path.splitext(f)[0]\n",
    "        top_letters.append(d)\n",
    "    return top_letters"
   ]
  },
  {
   "cell_type": "markdown",
   "metadata": {},
   "source": [
    "####Parse data from the scrubbed wikipedia articles using regex and return a dictionary"
   ]
  },
  {
   "cell_type": "code",
   "execution_count": 4,
   "metadata": {
    "collapsed": true
   },
   "outputs": [],
   "source": [
    "def parse(filename):\n",
    "    data = \"\"\n",
    "    # regex pattern for scrubbing extracted wikipedia article \n",
    "    article_rgx = re.compile(\n",
    "    r'<doc id=\"(?P<id>\\d+)\" url=\"(?P<url>[^\"]+)\" title=\"(?P<title>[^\"]+)\">\\n(?P<content>.+)\\n<\\/doc>', re.S | re.U)\n",
    "    with io.open(filename, 'r', encoding='utf8') as f:\n",
    "        for line in f:\n",
    "            #line = line.decode('utf-8')\n",
    "            data += line\n",
    "            if line.count('</doc>'):\n",
    "                m = article_rgx.search(data)\n",
    "                if m:\n",
    "                    yield m.groupdict()\n",
    "                data = \"\""
   ]
  },
  {
   "cell_type": "markdown",
   "metadata": {},
   "source": [
    "####Load the articles dictionary back from pickle"
   ]
  },
  {
   "cell_type": "code",
   "execution_count": 5,
   "metadata": {
    "collapsed": true
   },
   "outputs": [],
   "source": [
    "def load_data():\n",
    "    f = open('letters2.pkl', 'rb')\n",
    "    data = pickle.load(f)\n",
    "    f.close()\n",
    "    return data"
   ]
  },
  {
   "cell_type": "markdown",
   "metadata": {},
   "source": [
    "\n",
    "####Save the articles dictionary into pickle"
   ]
  },
  {
   "cell_type": "code",
   "execution_count": 6,
   "metadata": {
    "collapsed": true
   },
   "outputs": [],
   "source": [
    "def dump_data():   \n",
    "    top_letters = get_top_letters()  \n",
    "    with open('letters2.pkl', 'wb') as handle:\n",
    "        pickle.dump(top_letters, handle, protocol=2) "
   ]
  },
  {
   "cell_type": "code",
   "execution_count": 7,
   "metadata": {
    "collapsed": true
   },
   "outputs": [],
   "source": [
    "data = load_data() "
   ]
  },
  {
   "cell_type": "code",
   "execution_count": 8,
   "metadata": {
    "collapsed": false
   },
   "outputs": [],
   "source": [
    "df = DataFrame(data)\n",
    "df.fillna(0, inplace=True)\n",
    "df = df.set_index('lang')"
   ]
  },
  {
   "cell_type": "code",
   "execution_count": 9,
   "metadata": {
    "collapsed": false
   },
   "outputs": [
    {
     "data": {
      "text/html": [
       "<div>\n",
       "<table border=\"1\" class=\"dataframe\">\n",
       "  <thead>\n",
       "    <tr style=\"text-align: right;\">\n",
       "      <th></th>\n",
       "      <th></th>\n",
       "      <th></th>\n",
       "      <th>!</th>\n",
       "      <th>\"</th>\n",
       "      <th>#</th>\n",
       "      <th>$</th>\n",
       "      <th>%</th>\n",
       "      <th>&amp;</th>\n",
       "      <th>'</th>\n",
       "      <th>(</th>\n",
       "      <th>...</th>\n",
       "      <th>ｍ</th>\n",
       "      <th>ｎ</th>\n",
       "      <th>ｐ</th>\n",
       "      <th>ｚ</th>\n",
       "      <th>～</th>\n",
       "      <th>｢</th>\n",
       "      <th>｣</th>\n",
       "      <th>､</th>\n",
       "      <th>￼</th>\n",
       "      <th>�</th>\n",
       "    </tr>\n",
       "    <tr>\n",
       "      <th>lang</th>\n",
       "      <th></th>\n",
       "      <th></th>\n",
       "      <th></th>\n",
       "      <th></th>\n",
       "      <th></th>\n",
       "      <th></th>\n",
       "      <th></th>\n",
       "      <th></th>\n",
       "      <th></th>\n",
       "      <th></th>\n",
       "      <th></th>\n",
       "      <th></th>\n",
       "      <th></th>\n",
       "      <th></th>\n",
       "      <th></th>\n",
       "      <th></th>\n",
       "      <th></th>\n",
       "      <th></th>\n",
       "      <th></th>\n",
       "      <th></th>\n",
       "      <th></th>\n",
       "    </tr>\n",
       "  </thead>\n",
       "  <tbody>\n",
       "    <tr>\n",
       "      <th>ar</th>\n",
       "      <td>83595</td>\n",
       "      <td>3852786</td>\n",
       "      <td>551</td>\n",
       "      <td>41465</td>\n",
       "      <td>94</td>\n",
       "      <td>138</td>\n",
       "      <td>3897</td>\n",
       "      <td>46</td>\n",
       "      <td>552</td>\n",
       "      <td>24992</td>\n",
       "      <td>...</td>\n",
       "      <td>0</td>\n",
       "      <td>0</td>\n",
       "      <td>0</td>\n",
       "      <td>0</td>\n",
       "      <td>0</td>\n",
       "      <td>0</td>\n",
       "      <td>0</td>\n",
       "      <td>0</td>\n",
       "      <td>0</td>\n",
       "      <td>0</td>\n",
       "    </tr>\n",
       "    <tr>\n",
       "      <th>bg</th>\n",
       "      <td>63516</td>\n",
       "      <td>2695979</td>\n",
       "      <td>430</td>\n",
       "      <td>27985</td>\n",
       "      <td>25</td>\n",
       "      <td>214</td>\n",
       "      <td>4013</td>\n",
       "      <td>134</td>\n",
       "      <td>701</td>\n",
       "      <td>26644</td>\n",
       "      <td>...</td>\n",
       "      <td>0</td>\n",
       "      <td>0</td>\n",
       "      <td>0</td>\n",
       "      <td>0</td>\n",
       "      <td>0</td>\n",
       "      <td>0</td>\n",
       "      <td>0</td>\n",
       "      <td>0</td>\n",
       "      <td>1</td>\n",
       "      <td>0</td>\n",
       "    </tr>\n",
       "    <tr>\n",
       "      <th>ca</th>\n",
       "      <td>94031</td>\n",
       "      <td>5139533</td>\n",
       "      <td>858</td>\n",
       "      <td>91075</td>\n",
       "      <td>148</td>\n",
       "      <td>101</td>\n",
       "      <td>4348</td>\n",
       "      <td>185</td>\n",
       "      <td>227845</td>\n",
       "      <td>42403</td>\n",
       "      <td>...</td>\n",
       "      <td>0</td>\n",
       "      <td>0</td>\n",
       "      <td>0</td>\n",
       "      <td>0</td>\n",
       "      <td>0</td>\n",
       "      <td>0</td>\n",
       "      <td>0</td>\n",
       "      <td>0</td>\n",
       "      <td>1</td>\n",
       "      <td>0</td>\n",
       "    </tr>\n",
       "    <tr>\n",
       "      <th>cs</th>\n",
       "      <td>73349</td>\n",
       "      <td>2981587</td>\n",
       "      <td>421</td>\n",
       "      <td>44276</td>\n",
       "      <td>42</td>\n",
       "      <td>57</td>\n",
       "      <td>4313</td>\n",
       "      <td>188</td>\n",
       "      <td>1423</td>\n",
       "      <td>39133</td>\n",
       "      <td>...</td>\n",
       "      <td>0</td>\n",
       "      <td>0</td>\n",
       "      <td>0</td>\n",
       "      <td>0</td>\n",
       "      <td>0</td>\n",
       "      <td>0</td>\n",
       "      <td>0</td>\n",
       "      <td>0</td>\n",
       "      <td>0</td>\n",
       "      <td>0</td>\n",
       "    </tr>\n",
       "    <tr>\n",
       "      <th>da</th>\n",
       "      <td>62393</td>\n",
       "      <td>2577203</td>\n",
       "      <td>308</td>\n",
       "      <td>55627</td>\n",
       "      <td>98</td>\n",
       "      <td>321</td>\n",
       "      <td>3096</td>\n",
       "      <td>729</td>\n",
       "      <td>6793</td>\n",
       "      <td>18269</td>\n",
       "      <td>...</td>\n",
       "      <td>0</td>\n",
       "      <td>0</td>\n",
       "      <td>0</td>\n",
       "      <td>0</td>\n",
       "      <td>0</td>\n",
       "      <td>0</td>\n",
       "      <td>0</td>\n",
       "      <td>0</td>\n",
       "      <td>0</td>\n",
       "      <td>0</td>\n",
       "    </tr>\n",
       "    <tr>\n",
       "      <th>de</th>\n",
       "      <td>158733</td>\n",
       "      <td>7488125</td>\n",
       "      <td>1118</td>\n",
       "      <td>144548</td>\n",
       "      <td>253</td>\n",
       "      <td>209</td>\n",
       "      <td>8685</td>\n",
       "      <td>1284</td>\n",
       "      <td>1826</td>\n",
       "      <td>69541</td>\n",
       "      <td>...</td>\n",
       "      <td>0</td>\n",
       "      <td>0</td>\n",
       "      <td>0</td>\n",
       "      <td>0</td>\n",
       "      <td>0</td>\n",
       "      <td>0</td>\n",
       "      <td>0</td>\n",
       "      <td>0</td>\n",
       "      <td>0</td>\n",
       "      <td>0</td>\n",
       "    </tr>\n",
       "    <tr>\n",
       "      <th>en</th>\n",
       "      <td>156617</td>\n",
       "      <td>9991721</td>\n",
       "      <td>2380</td>\n",
       "      <td>361454</td>\n",
       "      <td>1794</td>\n",
       "      <td>10915</td>\n",
       "      <td>9058</td>\n",
       "      <td>3350</td>\n",
       "      <td>127764</td>\n",
       "      <td>59698</td>\n",
       "      <td>...</td>\n",
       "      <td>0</td>\n",
       "      <td>0</td>\n",
       "      <td>0</td>\n",
       "      <td>0</td>\n",
       "      <td>0</td>\n",
       "      <td>0</td>\n",
       "      <td>0</td>\n",
       "      <td>0</td>\n",
       "      <td>0</td>\n",
       "      <td>1</td>\n",
       "    </tr>\n",
       "  </tbody>\n",
       "</table>\n",
       "<p>7 rows × 6992 columns</p>\n",
       "</div>"
      ],
      "text/plain": [
       "          \\n              !       \"     #      $     %     &       '      (  \\\n",
       "lang                                                                          \n",
       "ar     83595  3852786   551   41465    94    138  3897    46     552  24992   \n",
       "bg     63516  2695979   430   27985    25    214  4013   134     701  26644   \n",
       "ca     94031  5139533   858   91075   148    101  4348   185  227845  42403   \n",
       "cs     73349  2981587   421   44276    42     57  4313   188    1423  39133   \n",
       "da     62393  2577203   308   55627    98    321  3096   729    6793  18269   \n",
       "de    158733  7488125  1118  144548   253    209  8685  1284    1826  69541   \n",
       "en    156617  9991721  2380  361454  1794  10915  9058  3350  127764  59698   \n",
       "\n",
       "     ...  ｍ  ｎ  ｐ  ｚ  ～  ｢  ｣  ､  ￼  �  \n",
       "lang ...                                \n",
       "ar   ...  0  0  0  0  0  0  0  0  0  0  \n",
       "bg   ...  0  0  0  0  0  0  0  0  1  0  \n",
       "ca   ...  0  0  0  0  0  0  0  0  1  0  \n",
       "cs   ...  0  0  0  0  0  0  0  0  0  0  \n",
       "da   ...  0  0  0  0  0  0  0  0  0  0  \n",
       "de   ...  0  0  0  0  0  0  0  0  0  0  \n",
       "en   ...  0  0  0  0  0  0  0  0  0  1  \n",
       "\n",
       "[7 rows x 6992 columns]"
      ]
     },
     "execution_count": 9,
     "metadata": {},
     "output_type": "execute_result"
    }
   ],
   "source": [
    "df.head(7)"
   ]
  },
  {
   "cell_type": "code",
   "execution_count": 10,
   "metadata": {
    "collapsed": false
   },
   "outputs": [
    {
     "data": {
      "text/html": [
       "<div>\n",
       "<table border=\"1\" class=\"dataframe\">\n",
       "  <thead>\n",
       "    <tr style=\"text-align: right;\">\n",
       "      <th></th>\n",
       "      <th>_perc</th>\n",
       "      <th>_perc</th>\n",
       "      <th>!_perc</th>\n",
       "      <th>\"_perc</th>\n",
       "      <th>#_perc</th>\n",
       "      <th>$_perc</th>\n",
       "      <th>%_perc</th>\n",
       "      <th>&amp;_perc</th>\n",
       "      <th>'_perc</th>\n",
       "      <th>(_perc</th>\n",
       "      <th>...</th>\n",
       "      <th>ｍ_perc</th>\n",
       "      <th>ｎ_perc</th>\n",
       "      <th>ｐ_perc</th>\n",
       "      <th>ｚ_perc</th>\n",
       "      <th>～_perc</th>\n",
       "      <th>｢_perc</th>\n",
       "      <th>｣_perc</th>\n",
       "      <th>､_perc</th>\n",
       "      <th>￼_perc</th>\n",
       "      <th>�_perc</th>\n",
       "    </tr>\n",
       "    <tr>\n",
       "      <th>lang</th>\n",
       "      <th></th>\n",
       "      <th></th>\n",
       "      <th></th>\n",
       "      <th></th>\n",
       "      <th></th>\n",
       "      <th></th>\n",
       "      <th></th>\n",
       "      <th></th>\n",
       "      <th></th>\n",
       "      <th></th>\n",
       "      <th></th>\n",
       "      <th></th>\n",
       "      <th></th>\n",
       "      <th></th>\n",
       "      <th></th>\n",
       "      <th></th>\n",
       "      <th></th>\n",
       "      <th></th>\n",
       "      <th></th>\n",
       "      <th></th>\n",
       "      <th></th>\n",
       "    </tr>\n",
       "  </thead>\n",
       "  <tbody>\n",
       "    <tr>\n",
       "      <th>ar</th>\n",
       "      <td>0.003595</td>\n",
       "      <td>0.165686</td>\n",
       "      <td>0.000024</td>\n",
       "      <td>0.001783</td>\n",
       "      <td>0.000004</td>\n",
       "      <td>0.000006</td>\n",
       "      <td>0.000168</td>\n",
       "      <td>0.000002</td>\n",
       "      <td>0.000024</td>\n",
       "      <td>0.001075</td>\n",
       "      <td>...</td>\n",
       "      <td>0</td>\n",
       "      <td>0</td>\n",
       "      <td>0</td>\n",
       "      <td>0</td>\n",
       "      <td>0</td>\n",
       "      <td>0</td>\n",
       "      <td>0</td>\n",
       "      <td>0</td>\n",
       "      <td>0.000000e+00</td>\n",
       "      <td>0.000000e+00</td>\n",
       "    </tr>\n",
       "    <tr>\n",
       "      <th>bg</th>\n",
       "      <td>0.003506</td>\n",
       "      <td>0.148829</td>\n",
       "      <td>0.000024</td>\n",
       "      <td>0.001545</td>\n",
       "      <td>0.000001</td>\n",
       "      <td>0.000012</td>\n",
       "      <td>0.000222</td>\n",
       "      <td>0.000007</td>\n",
       "      <td>0.000039</td>\n",
       "      <td>0.001471</td>\n",
       "      <td>...</td>\n",
       "      <td>0</td>\n",
       "      <td>0</td>\n",
       "      <td>0</td>\n",
       "      <td>0</td>\n",
       "      <td>0</td>\n",
       "      <td>0</td>\n",
       "      <td>0</td>\n",
       "      <td>0</td>\n",
       "      <td>5.520417e-08</td>\n",
       "      <td>0.000000e+00</td>\n",
       "    </tr>\n",
       "    <tr>\n",
       "      <th>ca</th>\n",
       "      <td>0.002943</td>\n",
       "      <td>0.160856</td>\n",
       "      <td>0.000027</td>\n",
       "      <td>0.002850</td>\n",
       "      <td>0.000005</td>\n",
       "      <td>0.000003</td>\n",
       "      <td>0.000136</td>\n",
       "      <td>0.000006</td>\n",
       "      <td>0.007131</td>\n",
       "      <td>0.001327</td>\n",
       "      <td>...</td>\n",
       "      <td>0</td>\n",
       "      <td>0</td>\n",
       "      <td>0</td>\n",
       "      <td>0</td>\n",
       "      <td>0</td>\n",
       "      <td>0</td>\n",
       "      <td>0</td>\n",
       "      <td>0</td>\n",
       "      <td>3.129786e-08</td>\n",
       "      <td>0.000000e+00</td>\n",
       "    </tr>\n",
       "    <tr>\n",
       "      <th>cs</th>\n",
       "      <td>0.003517</td>\n",
       "      <td>0.142946</td>\n",
       "      <td>0.000020</td>\n",
       "      <td>0.002123</td>\n",
       "      <td>0.000002</td>\n",
       "      <td>0.000003</td>\n",
       "      <td>0.000207</td>\n",
       "      <td>0.000009</td>\n",
       "      <td>0.000068</td>\n",
       "      <td>0.001876</td>\n",
       "      <td>...</td>\n",
       "      <td>0</td>\n",
       "      <td>0</td>\n",
       "      <td>0</td>\n",
       "      <td>0</td>\n",
       "      <td>0</td>\n",
       "      <td>0</td>\n",
       "      <td>0</td>\n",
       "      <td>0</td>\n",
       "      <td>0.000000e+00</td>\n",
       "      <td>0.000000e+00</td>\n",
       "    </tr>\n",
       "    <tr>\n",
       "      <th>da</th>\n",
       "      <td>0.003642</td>\n",
       "      <td>0.150450</td>\n",
       "      <td>0.000018</td>\n",
       "      <td>0.003247</td>\n",
       "      <td>0.000006</td>\n",
       "      <td>0.000019</td>\n",
       "      <td>0.000181</td>\n",
       "      <td>0.000043</td>\n",
       "      <td>0.000397</td>\n",
       "      <td>0.001066</td>\n",
       "      <td>...</td>\n",
       "      <td>0</td>\n",
       "      <td>0</td>\n",
       "      <td>0</td>\n",
       "      <td>0</td>\n",
       "      <td>0</td>\n",
       "      <td>0</td>\n",
       "      <td>0</td>\n",
       "      <td>0</td>\n",
       "      <td>0.000000e+00</td>\n",
       "      <td>0.000000e+00</td>\n",
       "    </tr>\n",
       "    <tr>\n",
       "      <th>de</th>\n",
       "      <td>0.002860</td>\n",
       "      <td>0.134936</td>\n",
       "      <td>0.000020</td>\n",
       "      <td>0.002605</td>\n",
       "      <td>0.000005</td>\n",
       "      <td>0.000004</td>\n",
       "      <td>0.000157</td>\n",
       "      <td>0.000023</td>\n",
       "      <td>0.000033</td>\n",
       "      <td>0.001253</td>\n",
       "      <td>...</td>\n",
       "      <td>0</td>\n",
       "      <td>0</td>\n",
       "      <td>0</td>\n",
       "      <td>0</td>\n",
       "      <td>0</td>\n",
       "      <td>0</td>\n",
       "      <td>0</td>\n",
       "      <td>0</td>\n",
       "      <td>0.000000e+00</td>\n",
       "      <td>0.000000e+00</td>\n",
       "    </tr>\n",
       "    <tr>\n",
       "      <th>en</th>\n",
       "      <td>0.002512</td>\n",
       "      <td>0.160279</td>\n",
       "      <td>0.000038</td>\n",
       "      <td>0.005798</td>\n",
       "      <td>0.000029</td>\n",
       "      <td>0.000175</td>\n",
       "      <td>0.000145</td>\n",
       "      <td>0.000054</td>\n",
       "      <td>0.002049</td>\n",
       "      <td>0.000958</td>\n",
       "      <td>...</td>\n",
       "      <td>0</td>\n",
       "      <td>0</td>\n",
       "      <td>0</td>\n",
       "      <td>0</td>\n",
       "      <td>0</td>\n",
       "      <td>0</td>\n",
       "      <td>0</td>\n",
       "      <td>0</td>\n",
       "      <td>0.000000e+00</td>\n",
       "      <td>1.604116e-08</td>\n",
       "    </tr>\n",
       "  </tbody>\n",
       "</table>\n",
       "<p>7 rows × 6992 columns</p>\n",
       "</div>"
      ],
      "text/plain": [
       "       \\n_perc     _perc    !_perc    \"_perc    #_perc    $_perc    %_perc  \\\n",
       "lang                                                                         \n",
       "ar    0.003595  0.165686  0.000024  0.001783  0.000004  0.000006  0.000168   \n",
       "bg    0.003506  0.148829  0.000024  0.001545  0.000001  0.000012  0.000222   \n",
       "ca    0.002943  0.160856  0.000027  0.002850  0.000005  0.000003  0.000136   \n",
       "cs    0.003517  0.142946  0.000020  0.002123  0.000002  0.000003  0.000207   \n",
       "da    0.003642  0.150450  0.000018  0.003247  0.000006  0.000019  0.000181   \n",
       "de    0.002860  0.134936  0.000020  0.002605  0.000005  0.000004  0.000157   \n",
       "en    0.002512  0.160279  0.000038  0.005798  0.000029  0.000175  0.000145   \n",
       "\n",
       "        &_perc    '_perc    (_perc      ...       ｍ_perc  ｎ_perc  ｐ_perc  \\\n",
       "lang                                    ...                                \n",
       "ar    0.000002  0.000024  0.001075      ...            0       0       0   \n",
       "bg    0.000007  0.000039  0.001471      ...            0       0       0   \n",
       "ca    0.000006  0.007131  0.001327      ...            0       0       0   \n",
       "cs    0.000009  0.000068  0.001876      ...            0       0       0   \n",
       "da    0.000043  0.000397  0.001066      ...            0       0       0   \n",
       "de    0.000023  0.000033  0.001253      ...            0       0       0   \n",
       "en    0.000054  0.002049  0.000958      ...            0       0       0   \n",
       "\n",
       "      ｚ_perc  ～_perc  ｢_perc  ｣_perc  ､_perc        ￼_perc        �_perc  \n",
       "lang                                                                      \n",
       "ar         0       0       0       0       0  0.000000e+00  0.000000e+00  \n",
       "bg         0       0       0       0       0  5.520417e-08  0.000000e+00  \n",
       "ca         0       0       0       0       0  3.129786e-08  0.000000e+00  \n",
       "cs         0       0       0       0       0  0.000000e+00  0.000000e+00  \n",
       "da         0       0       0       0       0  0.000000e+00  0.000000e+00  \n",
       "de         0       0       0       0       0  0.000000e+00  0.000000e+00  \n",
       "en         0       0       0       0       0  0.000000e+00  1.604116e-08  \n",
       "\n",
       "[7 rows x 6992 columns]"
      ]
     },
     "execution_count": 10,
     "metadata": {},
     "output_type": "execute_result"
    }
   ],
   "source": [
    "df3 = percentages(df)\n",
    "df3.values[np.isnan(df3.values)] = np.median(df3.values[~np.isnan(df3.values)])\n",
    "df3.head(7)"
   ]
  },
  {
   "cell_type": "code",
   "execution_count": 11,
   "metadata": {
    "collapsed": false
   },
   "outputs": [],
   "source": [
    "num_clusters = 4\n",
    "palette = sns.color_palette('colorblind', num_clusters)"
   ]
  },
  {
   "cell_type": "markdown",
   "metadata": {},
   "source": [
    "### Run KMeans clustering algorithm on letter percentages\n",
    "#### KMeans automatically groups the data together based on similarity"
   ]
  },
  {
   "cell_type": "code",
   "execution_count": 12,
   "metadata": {
    "collapsed": true
   },
   "outputs": [],
   "source": [
    "est = KMeans(num_clusters, max_iter=30000)\n",
    "est.fit(df3.values)\n",
    "y_kmeans = est.predict(df3.values)"
   ]
  },
  {
   "cell_type": "markdown",
   "metadata": {},
   "source": [
    "###Run Principal Component Analysis to reduce the number of columns from 10000 to 2"
   ]
  },
  {
   "cell_type": "code",
   "execution_count": 13,
   "metadata": {
    "collapsed": true
   },
   "outputs": [],
   "source": [
    "pca = PCA(n_components=2)\n",
    "pca.fit(df3.values)\n",
    "X_trans = pca.transform(df3.values)"
   ]
  },
  {
   "cell_type": "markdown",
   "metadata": {},
   "source": [
    "###Plot the results"
   ]
  },
  {
   "cell_type": "code",
   "execution_count": 14,
   "metadata": {
    "collapsed": false
   },
   "outputs": [
    {
     "data": {
      "text/plain": [
       "<matplotlib.collections.PathCollection at 0x18f500f0>"
      ]
     },
     "execution_count": 14,
     "metadata": {},
     "output_type": "execute_result"
    },
    {
     "data": {
      "image/png": "[encoded data removed]",
      "text/plain": [
       "<matplotlib.figure.Figure at 0x1903e048>"
      ]
     },
     "metadata": {},
     "output_type": "display_data"
    }
   ],
   "source": [
    "plt.scatter(X_trans[:, 0], X_trans[:, 1], c=[palette[y] for y in y_kmeans], s=50)"
   ]
  },
  {
   "cell_type": "markdown",
   "metadata": {},
   "source": [
    "###Helper function for printing similarity distance details in clusters"
   ]
  },
  {
   "cell_type": "code",
   "execution_count": 15,
   "metadata": {
    "collapsed": true
   },
   "outputs": [],
   "source": [
    "def print_sim(dist, x, y, langs):\n",
    "    print(\"{0} ({1}, {2})\".format(dist, code_lang_map[langs[x]], code_lang_map[langs[y]]))"
   ]
  },
  {
   "cell_type": "markdown",
   "metadata": {},
   "source": [
    "###Find the languages that are most similar"
   ]
  },
  {
   "cell_type": "code",
   "execution_count": 16,
   "metadata": {
    "collapsed": true
   },
   "outputs": [],
   "source": [
    "cluster_dfs = {}\n",
    "cluster_langs = {}\n",
    "cluster_distances = {}\n",
    "langs = list(code_lang_map.keys())"
   ]
  },
  {
   "cell_type": "code",
   "execution_count": 17,
   "metadata": {
    "collapsed": false
   },
   "outputs": [
    {
     "name": "stdout",
     "output_type": "stream",
     "text": [
      "Cluster #0\n",
      "0.0134930582372 (Arabic, Persian)\n",
      "0.0134930582373 (Arabic, Persian)\n",
      "0.0369898458834 (Croatian, Finnish)\n",
      "0.0382281250592 (Finnish, Czech)\n",
      "0.0448013395959 (Croatian, German)\n",
      "0.0485874241609 (Finnish, Kazakh)\n",
      "0.050683479432 (Kazakh, Serbian)\n",
      "0.0529485885806 (German, Finnish)\n",
      "0.054227525429 (Vietnamese, Indonesian)\n",
      "0.0548448505622 (Croatian, Kazakh)\n",
      "0.05681091513 (German, Portuguese)\n",
      "0.0588135128334 (Chinese, Dutch)\n",
      "0.0591008339765 (Croatian, Czech)\n",
      "0.0593707398764 (Croatian, Serbian)\n",
      "0.0598196627665 (Finnish, Portuguese)\n",
      "0.0604485418978 (Czech, Kazakh)\n",
      "0.0606184195518 (Turkish, Spanish)\n",
      "0.0607610860892 (Portuguese, Kazakh)\n",
      "0.0620393067053 (Croatian, Portuguese)\n",
      "0.0634290019112 (German, Spanish)\n",
      "Cluster #1\n",
      "Cluster #2\n",
      "0.0475935968993 (Esperanto, Croatian)\n",
      "0.0835127759886 (Chinese, Turkish)\n",
      "0.103037792081 (Esperanto, Chinese)\n",
      "0.110142539949 (Chinese, Croatian)\n",
      "0.114259149551 (Bulgarian, Chinese)\n",
      "0.117867182303 (Bulgarian, Turkish)\n",
      "0.11799613275 (Croatian, Turkish)\n",
      "0.118815437758 (Esperanto, Turkish)\n",
      "0.130928888087 (Esperanto, Bulgarian)\n",
      "0.135120992536 (Bulgarian, Croatian)\n",
      "0.149082823968 (Vietnamese, Chinese)\n",
      "0.149082823968 (Vietnamese, Chinese)\n",
      "0.165697588003 (Vietnamese, Turkish)\n",
      "0.180844318911 (Vietnamese, Esperanto)\n",
      "0.180844318911 (Vietnamese, Esperanto)\n",
      "0.185589982372 (Vietnamese, Croatian)\n",
      "0.185589982372 (Vietnamese, Croatian)\n",
      "0.196770170763 (Vietnamese, Bulgarian)\n",
      "0.246625874182 (Vietnamese, Ukrainian)\n",
      "0.252329806433 (Chinese, Ukrainian)\n",
      "Cluster #3\n",
      "0.0426958098309 (Vietnamese, Ukrainian)\n",
      "0.0738316630839 (Vietnamese, Bulgarian)\n",
      "0.0791920221606 (Bulgarian, Ukrainian)\n",
      "0.24455033328 (Esperanto, Chinese)\n",
      "0.248370778111 (Bulgarian, Chinese)\n",
      "0.249425940244 (Chinese, Ukrainian)\n",
      "0.25283853232 (Vietnamese, Chinese)\n",
      "0.266300246387 (Esperanto, Bulgarian)\n",
      "0.267594494349 (Esperanto, Ukrainian)\n",
      "0.271414734034 (Vietnamese, Esperanto)\n",
      "0.271414734034 (Vietnamese, Esperanto)\n"
     ]
    }
   ],
   "source": [
    "for cluster_num in range(4):\n",
    "    indexes = [i for i in range(y_kmeans.shape[0]) if y_kmeans[i] == cluster_num]\n",
    "    cluster_langs[cluster_num] = [langs[i] for i in indexes]\n",
    "    cluster_dfs[cluster_num] = df3.loc[cluster_langs[cluster_num], :]\n",
    "\n",
    "    # Calculate pairwise distances and display\n",
    "    print('Cluster #{0}'.format(cluster_num))\n",
    "    \n",
    "    cluster_distances[cluster_num] = pairwise_distances(cluster_dfs[cluster_num].values)\n",
    "    n, m = cluster_distances[cluster_num].shape\n",
    "    distances = set([])\n",
    "    for i in range(n):\n",
    "        for j in range(m):\n",
    "            if i == j:\n",
    "                continue\n",
    "            distances.add((cluster_distances[cluster_num][i, j], tuple(sorted([i, j]))))\n",
    "    for a in sorted(distances)[:20]:\n",
    "        print_sim(a[0], a[1][0], a[1][1], langs)\n",
    "\n",
    "\n"
   ]
  },
  {
   "cell_type": "code",
   "execution_count": null,
   "metadata": {
    "collapsed": true
   },
   "outputs": [],
   "source": []
  }
 ],
 "metadata": {
  "kernelspec": {
   "display_name": "Python 2",
   "language": "python",
   "name": "python2"
  },
  "language_info": {
   "codemirror_mode": {
    "name": "ipython",
    "version": 2
   },
   "file_extension": ".py",
   "mimetype": "text/x-python",
   "name": "python",
   "nbconvert_exporter": "python",
   "pygments_lexer": "ipython2",
   "version": "2.7.10"
  }
 },
 "nbformat": 4,
 "nbformat_minor": 0
}
